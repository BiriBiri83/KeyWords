{
 "cells": [
  {
   "cell_type": "code",
   "execution_count": null,
   "metadata": {},
   "outputs": [],
   "source": [
    "import time\n",
    "from selenium import webdriver\n",
    "from bs4 import BeautifulSoup\n",
    "import random as rr\n",
    "driver = webdriver.Chrome()\n",
    "touch = webdriver.common.touch_actions.TouchActions(driver)\n",
    "driver.get('http://www.google.com/');\n",
    "time.sleep(rr.randint(2,4))\n",
    "search_box = driver.find_element_by_name('q')\n",
    "search_box.send_keys('Вислоухие котики') # Вбивай сюда свой запрос\n",
    "search_box.submit()\n",
    "alllinks = driver.find_elements_by_xpath('.//a')\n",
    "baselinks = driver.find_elements_by_class_name('r')\n",
    "bl = []\n",
    "for bs in baselinks:\n",
    "    bl.append(bs.find_element_by_xpath('.//a'))\n",
    "    #print(rr.find_element_by_xpath('.//a'))\n",
    "mylinks = []\n",
    "for bbl in bl:\n",
    "    mylinks.append(bbl.get_attribute('href'))\n",
    "for ml in mylinks:\n",
    "    driver.get(ml)\n",
    "    time.sleep(rr.randint(2, 4))\n",
    "    for i in range(1, 5000, 4):\n",
    "        driver.execute_script(f\"window.scrollTo(0, {i})\") \n",
    "    #touch.scroll(0, 100)\n",
    "    #touch.perform()\n",
    "    time.sleep(rr.randint(1, 2))\n",
    "    driver.back()\n",
    "    time.sleep(rr.randint(2, 4))\n",
    "links = []\n",
    "for aa in alllinks:\n",
    "    links.append(aa.get_attribute('href'))\n",
    "driver.quit()"
   ]
  },
  {
   "cell_type": "code",
   "execution_count": null,
   "metadata": {},
   "outputs": [],
   "source": []
  }
 ],
 "metadata": {
  "kernelspec": {
   "display_name": "Python 3",
   "language": "python",
   "name": "python3"
  },
  "language_info": {
   "codemirror_mode": {
    "name": "ipython",
    "version": 3
   },
   "file_extension": ".py",
   "mimetype": "text/x-python",
   "name": "python",
   "nbconvert_exporter": "python",
   "pygments_lexer": "ipython3",
   "version": "3.7.4"
  }
 },
 "nbformat": 4,
 "nbformat_minor": 2
}
